{
  "nbformat": 4,
  "nbformat_minor": 0,
  "metadata": {
    "colab": {
      "provenance": [],
      "collapsed_sections": [
        "CtnlmACX4GeQ",
        "7vaHaxha4X9g",
        "oEbW1lDagF4L",
        "n2EBse9dHHqp",
        "5f2hh51vkD4P",
        "x5f09fjYkAcA",
        "cz0bJJM0mLrG"
      ],
      "authorship_tag": "ABX9TyPlig1cTtWXnA75JQOq0GAs",
      "include_colab_link": true
    },
    "kernelspec": {
      "name": "python3",
      "display_name": "Python 3"
    },
    "language_info": {
      "name": "python"
    }
  },
  "cells": [
    {
      "cell_type": "markdown",
      "metadata": {
        "id": "view-in-github",
        "colab_type": "text"
      },
      "source": [
        "<a href=\"https://colab.research.google.com/github/RajuKGosala-45/microsoft-fabric-wwi-project/blob/main/BMWSales.ipynb\" target=\"_parent\"><img src=\"https://colab.research.google.com/assets/colab-badge.svg\" alt=\"Open In Colab\"/></a>"
      ]
    },
    {
      "cell_type": "markdown",
      "source": [
        "## **Create SparkSession and Read Data**"
      ],
      "metadata": {
        "id": "CtnlmACX4GeQ"
      }
    },
    {
      "cell_type": "code",
      "execution_count": null,
      "metadata": {
        "colab": {
          "base_uri": "https://localhost:8080/"
        },
        "id": "mdEHrPI1pSf6",
        "outputId": "bb2b9669-5b50-4297-e5b7-ba2f22f3abac"
      },
      "outputs": [
        {
          "output_type": "stream",
          "name": "stdout",
          "text": [
            "+--------+----+-------------+-----+---------+------------+-------------+----------+---------+------------+--------------------+\n",
            "|   Model|Year|       Region|Color|Fuel_Type|Transmission|Engine_Size_L|Mileage_KM|Price_USD|Sales_Volume|Sales_Classification|\n",
            "+--------+----+-------------+-----+---------+------------+-------------+----------+---------+------------+--------------------+\n",
            "|5 Series|2016|         Asia|  Red|   Petrol|      Manual|          3.5|    151748|    98740|        8300|                High|\n",
            "|      i8|2013|North America|  Red|   Hybrid|   Automatic|          1.6|    121671|    79219|        3428|                 Low|\n",
            "|5 Series|2022|North America| Blue|   Petrol|   Automatic|          4.5|     10991|   113265|        6994|                 Low|\n",
            "|      X3|2024|  Middle East| Blue|   Petrol|   Automatic|          1.7|     27255|    60971|        4047|                 Low|\n",
            "|7 Series|2020|South America|Black|   Diesel|      Manual|          2.1|    122131|    49898|        3080|                 Low|\n",
            "+--------+----+-------------+-----+---------+------------+-------------+----------+---------+------------+--------------------+\n",
            "only showing top 5 rows\n",
            "\n"
          ]
        }
      ],
      "source": [
        "from pyspark.sql import SparkSession\n",
        "from pyspark.sql.functions import *\n",
        "from pyspark.sql.types import *\n",
        "\n",
        "spark=SparkSession.builder.appName('BMW dataSet').getOrCreate()\n",
        "df=spark.read.csv('/content/BMW sales data (2010-2024) (1).csv', header=True, inferSchema=True)\n",
        "df.show(5)"
      ]
    },
    {
      "cell_type": "markdown",
      "source": [
        "## **Explore Dataset**"
      ],
      "metadata": {
        "id": "7vaHaxha4X9g"
      }
    },
    {
      "cell_type": "code",
      "source": [
        "print(\"Schema Overview:\")\n",
        "df.printSchema()\n",
        "\n",
        "print(\"\\nSample Records:\")\n",
        "df.show(5)\n",
        "\n",
        "print(\"\\nSummary Statistics:\")\n",
        "df.describe().show()"
      ],
      "metadata": {
        "colab": {
          "base_uri": "https://localhost:8080/"
        },
        "id": "r3w0mECr4Ey5",
        "outputId": "2e75a1cd-36fc-461c-b38a-bcba853ac95f"
      },
      "execution_count": null,
      "outputs": [
        {
          "output_type": "stream",
          "name": "stdout",
          "text": [
            "Schema Overview:\n",
            "root\n",
            " |-- Model: string (nullable = true)\n",
            " |-- Year: integer (nullable = true)\n",
            " |-- Region: string (nullable = true)\n",
            " |-- Color: string (nullable = true)\n",
            " |-- Fuel_Type: string (nullable = true)\n",
            " |-- Transmission: string (nullable = true)\n",
            " |-- Engine_Size_L: double (nullable = true)\n",
            " |-- Mileage_KM: integer (nullable = true)\n",
            " |-- Price_USD: integer (nullable = true)\n",
            " |-- Sales_Volume: integer (nullable = true)\n",
            " |-- Sales_Classification: string (nullable = true)\n",
            "\n",
            "\n",
            "Sample Records:\n",
            "+--------+----+-------------+-----+---------+------------+-------------+----------+---------+------------+--------------------+\n",
            "|   Model|Year|       Region|Color|Fuel_Type|Transmission|Engine_Size_L|Mileage_KM|Price_USD|Sales_Volume|Sales_Classification|\n",
            "+--------+----+-------------+-----+---------+------------+-------------+----------+---------+------------+--------------------+\n",
            "|5 Series|2016|         Asia|  Red|   Petrol|      Manual|          3.5|    151748|    98740|        8300|                High|\n",
            "|      i8|2013|North America|  Red|   Hybrid|   Automatic|          1.6|    121671|    79219|        3428|                 Low|\n",
            "|5 Series|2022|North America| Blue|   Petrol|   Automatic|          4.5|     10991|   113265|        6994|                 Low|\n",
            "|      X3|2024|  Middle East| Blue|   Petrol|   Automatic|          1.7|     27255|    60971|        4047|                 Low|\n",
            "|7 Series|2020|South America|Black|   Diesel|      Manual|          2.1|    122131|    49898|        3080|                 Low|\n",
            "+--------+----+-------------+-----+---------+------------+-------------+----------+---------+------------+--------------------+\n",
            "only showing top 5 rows\n",
            "\n",
            "\n",
            "Summary Statistics:\n",
            "+-------+--------+-----------------+-------------+-----+---------+------------+------------------+------------------+------------------+------------------+--------------------+\n",
            "|summary|   Model|             Year|       Region|Color|Fuel_Type|Transmission|     Engine_Size_L|        Mileage_KM|         Price_USD|      Sales_Volume|Sales_Classification|\n",
            "+-------+--------+-----------------+-------------+-----+---------+------------+------------------+------------------+------------------+------------------+--------------------+\n",
            "|  count|   50000|            50000|        50000|50000|    50000|       50000|             50000|             50000|             50000|             50000|               50000|\n",
            "|   mean|    NULL|        2017.0157|         NULL| NULL|     NULL|        NULL| 3.247179999999999|      100307.20314|        75034.6009|        5067.51468|                NULL|\n",
            "| stddev|    NULL|4.324459218093149|         NULL| NULL|     NULL|        NULL|1.0090783975411621|57941.509343524616|25998.248881722793|2856.7671252296077|                NULL|\n",
            "|    min|3 Series|             2010|       Africa|Black|   Diesel|   Automatic|               1.5|                 3|             30000|               100|                High|\n",
            "|    max|      i8|             2024|South America|White|   Petrol|      Manual|               5.0|            199996|            119998|              9999|                 Low|\n",
            "+-------+--------+-----------------+-------------+-----+---------+------------+------------------+------------------+------------------+------------------+--------------------+\n",
            "\n"
          ]
        }
      ]
    },
    {
      "cell_type": "markdown",
      "source": [
        "## **2.Data Cleaning in PySpark(BMW Sales Dataset)**"
      ],
      "metadata": {
        "id": "oEbW1lDagF4L"
      }
    },
    {
      "cell_type": "code",
      "source": [
        "#from pyspark.sql import SparkSession\n",
        "#from pyspark.sql.functions import *\n",
        "#from pyspark.sql.types import *\n",
        "\n",
        "#spark=SparkSession.builder.appName('BWM Dataset').getOrCreate()\n",
        "# The data is already loaded into the df DataFrame from the previous cell.\n",
        "# df.spark.read.csv('/content/BMW sales data (2010-2024) (1).csv', header=True, inferSchema=True)\n",
        "\n",
        "# Create for NULLs or Missing Values\n",
        "print(\"Count of NULLs in each coulmn:\")\n",
        "df.select([column(c).isNull().alias(c) for c in df.columns]).show()\n",
        "\n",
        "# Removing Missing values(if any)\n",
        "df_clean=df.dropna()\n",
        "\n",
        "# Remove Duplicate Records\n",
        "df_clean=df_clean.dropDuplicates()\n",
        "\n",
        "# Standardize Tecxt Columns (e.g., Region names to UPPERCASE)\n",
        "df_clean=df.withColumn(\"Region\",upper(col(\"Region\")))\n",
        "\n",
        "# Validate Cleaned data\n",
        "\n",
        "print(\"Cleaned dataset preview:\")\n",
        "df_clean.show(5)\n",
        "\n",
        "print(\"Rows Before:\", df.count(), \"| After Cleaning:\", df_clean.count())"
      ],
      "metadata": {
        "colab": {
          "base_uri": "https://localhost:8080/"
        },
        "id": "ia1mRt2CgExd",
        "outputId": "1ce6dba8-152d-4698-f991-80e155846487"
      },
      "execution_count": null,
      "outputs": [
        {
          "output_type": "stream",
          "name": "stdout",
          "text": [
            "Count of NULLs in each coulmn:\n",
            "+-----+-----+------+-----+---------+------------+-------------+----------+---------+------------+--------------------+\n",
            "|Model| Year|Region|Color|Fuel_Type|Transmission|Engine_Size_L|Mileage_KM|Price_USD|Sales_Volume|Sales_Classification|\n",
            "+-----+-----+------+-----+---------+------------+-------------+----------+---------+------------+--------------------+\n",
            "|false|false| false|false|    false|       false|        false|     false|    false|       false|               false|\n",
            "|false|false| false|false|    false|       false|        false|     false|    false|       false|               false|\n",
            "|false|false| false|false|    false|       false|        false|     false|    false|       false|               false|\n",
            "|false|false| false|false|    false|       false|        false|     false|    false|       false|               false|\n",
            "|false|false| false|false|    false|       false|        false|     false|    false|       false|               false|\n",
            "|false|false| false|false|    false|       false|        false|     false|    false|       false|               false|\n",
            "|false|false| false|false|    false|       false|        false|     false|    false|       false|               false|\n",
            "|false|false| false|false|    false|       false|        false|     false|    false|       false|               false|\n",
            "|false|false| false|false|    false|       false|        false|     false|    false|       false|               false|\n",
            "|false|false| false|false|    false|       false|        false|     false|    false|       false|               false|\n",
            "|false|false| false|false|    false|       false|        false|     false|    false|       false|               false|\n",
            "|false|false| false|false|    false|       false|        false|     false|    false|       false|               false|\n",
            "|false|false| false|false|    false|       false|        false|     false|    false|       false|               false|\n",
            "|false|false| false|false|    false|       false|        false|     false|    false|       false|               false|\n",
            "|false|false| false|false|    false|       false|        false|     false|    false|       false|               false|\n",
            "|false|false| false|false|    false|       false|        false|     false|    false|       false|               false|\n",
            "|false|false| false|false|    false|       false|        false|     false|    false|       false|               false|\n",
            "|false|false| false|false|    false|       false|        false|     false|    false|       false|               false|\n",
            "|false|false| false|false|    false|       false|        false|     false|    false|       false|               false|\n",
            "|false|false| false|false|    false|       false|        false|     false|    false|       false|               false|\n",
            "+-----+-----+------+-----+---------+------------+-------------+----------+---------+------------+--------------------+\n",
            "only showing top 20 rows\n",
            "\n",
            "Cleaned dataset preview:\n",
            "+--------+----+-------------+-----+---------+------------+-------------+----------+---------+------------+--------------------+\n",
            "|   Model|Year|       Region|Color|Fuel_Type|Transmission|Engine_Size_L|Mileage_KM|Price_USD|Sales_Volume|Sales_Classification|\n",
            "+--------+----+-------------+-----+---------+------------+-------------+----------+---------+------------+--------------------+\n",
            "|5 Series|2016|         ASIA|  Red|   Petrol|      Manual|          3.5|    151748|    98740|        8300|                High|\n",
            "|      i8|2013|NORTH AMERICA|  Red|   Hybrid|   Automatic|          1.6|    121671|    79219|        3428|                 Low|\n",
            "|5 Series|2022|NORTH AMERICA| Blue|   Petrol|   Automatic|          4.5|     10991|   113265|        6994|                 Low|\n",
            "|      X3|2024|  MIDDLE EAST| Blue|   Petrol|   Automatic|          1.7|     27255|    60971|        4047|                 Low|\n",
            "|7 Series|2020|SOUTH AMERICA|Black|   Diesel|      Manual|          2.1|    122131|    49898|        3080|                 Low|\n",
            "+--------+----+-------------+-----+---------+------------+-------------+----------+---------+------------+--------------------+\n",
            "only showing top 5 rows\n",
            "\n",
            "Rows Before: 50000 | After Cleaning: 50000\n"
          ]
        }
      ]
    },
    {
      "cell_type": "markdown",
      "source": [
        "## **3.Filtering and Sorting BMW Sales Data Using PySpark**"
      ],
      "metadata": {
        "id": "n2EBse9dHHqp"
      }
    },
    {
      "cell_type": "code",
      "source": [
        "#from pyspark.sql import SparkSession\n",
        "#from pyspark.sql.functions import *\n",
        "#from pyspark.sql.types import *\n",
        "\n",
        "# spark=SparkSession.builder.appName('BMW Sales').getOrCreate()\n",
        "# df=spark.read.csv('/content/BMW sales data (2010-2024) (1).csv', header=True, inferSchema=True)\n",
        "#df.show()\n",
        "high_Sales=df.filter(col(\"Sales_Volume\") > 7000)\n",
        "high_Sales.select(\"Model\",\"Year\",\"Region\",\"Sales_Volume\").show(10)"
      ],
      "metadata": {
        "colab": {
          "base_uri": "https://localhost:8080/"
        },
        "id": "BwdTjK81HtKG",
        "outputId": "7520eccb-06f4-4502-b471-c95b0325c07e"
      },
      "execution_count": null,
      "outputs": [
        {
          "output_type": "stream",
          "name": "stdout",
          "text": [
            "+--------+----+-------------+------------+\n",
            "|   Model|Year|       Region|Sales_Volume|\n",
            "+--------+----+-------------+------------+\n",
            "|5 Series|2016|         Asia|        8300|\n",
            "|      i8|2022|       Europe|        7949|\n",
            "|      X3|2016|South America|        8944|\n",
            "|      i8|2016|North America|        8252|\n",
            "|7 Series|2020|North America|        8111|\n",
            "|      X1|2017|         Asia|        7291|\n",
            "|      M3|2014|North America|        7765|\n",
            "|      M5|2017|North America|        9755|\n",
            "|      X5|2012|       Africa|        7104|\n",
            "|      X3|2015|North America|        8635|\n",
            "+--------+----+-------------+------------+\n",
            "only showing top 10 rows\n",
            "\n"
          ]
        }
      ]
    },
    {
      "cell_type": "markdown",
      "source": [
        "Sort By Highest Revenue"
      ],
      "metadata": {
        "id": "uhz8g_-gKu3Y"
      }
    },
    {
      "cell_type": "code",
      "source": [
        "top_revenue=df.orderBy(desc(\"Price_USD\"))\n",
        "print(\"Top 5 BMW cars by price:\")\n",
        "top_revenue.select(\"Model\",\"Year\",\"Region\",\"Price_USD\").show(5)"
      ],
      "metadata": {
        "colab": {
          "base_uri": "https://localhost:8080/"
        },
        "id": "s8PVgx7pK225",
        "outputId": "571e9e00-5a95-4978-e1cf-0a4c224d7153"
      },
      "execution_count": null,
      "outputs": [
        {
          "output_type": "stream",
          "name": "stdout",
          "text": [
            "Top 5 BMW cars by price:\n",
            "+--------+----+-----------+---------+\n",
            "|   Model|Year|     Region|Price_USD|\n",
            "+--------+----+-----------+---------+\n",
            "|      i8|2010|Middle East|   119998|\n",
            "|      i8|2024|     Africa|   119997|\n",
            "|      X6|2019|       Asia|   119997|\n",
            "|      X1|2016|     Africa|   119996|\n",
            "|3 Series|2019|Middle East|   119994|\n",
            "+--------+----+-----------+---------+\n",
            "only showing top 5 rows\n",
            "\n"
          ]
        }
      ]
    },
    {
      "cell_type": "markdown",
      "source": [
        "Filter By speciic Criteria"
      ],
      "metadata": {
        "id": "p5KpkqusLiWi"
      }
    },
    {
      "cell_type": "code",
      "source": [
        "recent_petrol=df.filter((col(\"Fuel_Type\") == \"Petrol\") & (col(\"Year\") > 2018))\n",
        "recent_petrol.select(\"Model\",\"Year\",\"Fuel_Type\",\"Region\",\"Sales_Volume\").show(5)"
      ],
      "metadata": {
        "colab": {
          "base_uri": "https://localhost:8080/"
        },
        "id": "qLnK0HBPLqZ5",
        "outputId": "36c1f495-651d-448b-f5f9-0fd842c0e45d"
      },
      "execution_count": null,
      "outputs": [
        {
          "output_type": "stream",
          "name": "stdout",
          "text": [
            "+--------+----+---------+-------------+------------+\n",
            "|   Model|Year|Fuel_Type|       Region|Sales_Volume|\n",
            "+--------+----+---------+-------------+------------+\n",
            "|5 Series|2022|   Petrol|North America|        6994|\n",
            "|      X3|2024|   Petrol|  Middle East|        4047|\n",
            "|      M5|2021|   Petrol|South America|        4561|\n",
            "|      M3|2020|   Petrol|       Africa|        3929|\n",
            "|      i3|2024|   Petrol|  Middle East|         173|\n",
            "+--------+----+---------+-------------+------------+\n",
            "only showing top 5 rows\n",
            "\n"
          ]
        }
      ]
    },
    {
      "cell_type": "markdown",
      "source": [
        "## **4.Aggregation and Grouping - BMW Sales Insights**"
      ],
      "metadata": {
        "id": "i8lTMJZpf8Ol"
      }
    },
    {
      "cell_type": "markdown",
      "source": [
        "### Total Sales By **Region**"
      ],
      "metadata": {
        "id": "5f2hh51vkD4P"
      }
    },
    {
      "cell_type": "code",
      "source": [
        "#from pyspark.sql import SparkSession\n",
        "#from pysaprk.sql.functions import *\n",
        "\n",
        "#spark=SparkSession.builder.appName(\"BMW Sales\").getOrCreate()\n",
        "#df=spark.read('/content/BMW sales data (2010-2024) (1).csv', header=True, inferSchema=True)\n",
        "\n",
        "region_sale=df.groupBy(\"Region\").agg(\n",
        "    sum(\"Sales_Volume\").alias(\"Total_Sales\"),\n",
        "    avg(\"Price_USD\").alias(\"Average_Price\"),\n",
        "    count(\"*\").alias(\"Record_Count\")\n",
        ")\n",
        "print(\"Total BMW Sales by Region:\")\n",
        "region_sale.show()"
      ],
      "metadata": {
        "colab": {
          "base_uri": "https://localhost:8080/"
        },
        "id": "kISmEvUsgKCa",
        "outputId": "415ab5dd-f2bc-471f-f566-16fb8dd613b3"
      },
      "execution_count": null,
      "outputs": [
        {
          "output_type": "stream",
          "name": "stdout",
          "text": [
            "Total BMW Sales by Region:\n",
            "+-------------+-----------+-----------------+------------+\n",
            "|       Region|Total_Sales|    Average_Price|Record_Count|\n",
            "+-------------+-----------+-----------------+------------+\n",
            "|       Europe|   42555138|74988.35685145188|        8334|\n",
            "|       Africa|   41565252|74885.77159820672|        8253|\n",
            "|North America|   42402629|75070.05470905818|        8335|\n",
            "|South America|   41551818|74973.59883650467|        8251|\n",
            "|  Middle East|   42326620|74726.78848680282|        8373|\n",
            "|         Asia|   42974277|75554.92500591437|        8454|\n",
            "+-------------+-----------+-----------------+------------+\n",
            "\n"
          ]
        }
      ]
    },
    {
      "cell_type": "markdown",
      "source": [
        "### Top Performing models by Total Revenue"
      ],
      "metadata": {
        "id": "x5f09fjYkAcA"
      }
    },
    {
      "cell_type": "code",
      "source": [
        "model_revenue=df.groupBy(\"Model\").agg(\n",
        "    sum(\"Price_USD\").alias(\"Total_Revenue\")\n",
        ").orderBy(\"Total_Revenue\", ascending=False)\n",
        "\n",
        "print(\"Top Performing Models by Total Revenue:\")\n",
        "model_revenue.show(5)"
      ],
      "metadata": {
        "colab": {
          "base_uri": "https://localhost:8080/"
        },
        "id": "aU47jxt7ksv2",
        "outputId": "3bb1a14e-cb59-4d0f-cdc3-257a98c97aa3"
      },
      "execution_count": null,
      "outputs": [
        {
          "output_type": "stream",
          "name": "stdout",
          "text": [
            "Top Performing Models by Total Revenue:\n",
            "+--------+-------------+\n",
            "|   Model|Total_Revenue|\n",
            "+--------+-------------+\n",
            "|7 Series|    352610538|\n",
            "|3 Series|    347226845|\n",
            "|      i8|    347137044|\n",
            "|5 Series|    345721780|\n",
            "|      i3|    345427638|\n",
            "+--------+-------------+\n",
            "only showing top 5 rows\n",
            "\n"
          ]
        }
      ]
    },
    {
      "cell_type": "markdown",
      "source": [
        "### **Yearly Trend**"
      ],
      "metadata": {
        "id": "cz0bJJM0mLrG"
      }
    },
    {
      "cell_type": "code",
      "source": [
        "Yearly_sales=df.groupBy(\"Year\").agg(sum(\"Sales_Volume\").alias(\"Total_Sales\"))\n",
        "Yearly_sales.orderBy(\"Year\").show()"
      ],
      "metadata": {
        "colab": {
          "base_uri": "https://localhost:8080/"
        },
        "id": "CP-3XGcdmXUa",
        "outputId": "8cf37e35-e6cd-4177-86e7-a768294af00b"
      },
      "execution_count": null,
      "outputs": [
        {
          "output_type": "stream",
          "name": "stdout",
          "text": [
            "+----+-----------+\n",
            "|Year|Total_Sales|\n",
            "+----+-----------+\n",
            "|2010|   16933445|\n",
            "|2011|   16758941|\n",
            "|2012|   16751895|\n",
            "|2013|   16866733|\n",
            "|2014|   16958960|\n",
            "|2015|   17010207|\n",
            "|2016|   16957550|\n",
            "|2017|   16620811|\n",
            "|2018|   16412273|\n",
            "|2019|   17191956|\n",
            "|2020|   16310843|\n",
            "|2021|   16884666|\n",
            "|2022|   17920946|\n",
            "|2023|   16268654|\n",
            "|2024|   17527854|\n",
            "+----+-----------+\n",
            "\n"
          ]
        }
      ]
    },
    {
      "cell_type": "markdown",
      "source": [
        "# **5.Windows Functions - Year over Year(YoY) Growth analysis**"
      ],
      "metadata": {
        "id": "1Om7L1DKe3EV"
      }
    },
    {
      "cell_type": "code",
      "source": [
        "#from pyspark.sql import SparkSession\n",
        "#from pyspark.sql.functions import *\n",
        "from pyspark.sql.window import Window\n",
        "#from pyspark.sql.types import *\n",
        "#spark=SparkSession.builder.appName(\"BMW_Sales\").getOrCreate()\n",
        "#df.spark.read(\"/content/BMW sales data (2010-2024) (1).csv\", header=True, inferSchema=True)\n",
        "\n",
        "       # Define a Window Spec (Partition by Rergion, Order by Year)\n",
        "windowSpec=Window.partitionBy(\"Region\").orderBy(\"Year\")\n",
        "       # Use LAG() to get Previous Years Sales for Comparision\n",
        "df_growth=df.withColumn(\"Prev_Year_Sales\", lag(\"Sales_Volume\").over(windowSpec))\n",
        "\n",
        "       # Calculate Year-over-Year Growth %\n",
        "df_growth = df_growth.withColumn(\n",
        "    \"YoY_Growth_Percent\",\n",
        "    round(((col(\"Sales_Volume\") - col(\"Prev_Year_Sales\")) / col(\"Prev_Year_Sales\")) *100, 2)\n",
        ")\n",
        "\n",
        "     #Display Growth Trends\n",
        "print(\"Year-over-Year growth by Region:\")\n",
        "df_growth.select(\"Region\",\"Year\",\"Sales_Volume\",\"Prev_year_Sales\",\"YoY_Growth_Percent\").show(15)"
      ],
      "metadata": {
        "colab": {
          "base_uri": "https://localhost:8080/"
        },
        "id": "_8dfsvIafg94",
        "outputId": "4e70acca-e903-4f58-901d-caaeaad625f0"
      },
      "execution_count": null,
      "outputs": [
        {
          "output_type": "stream",
          "name": "stdout",
          "text": [
            "Year-over-Year growth by Region:\n",
            "+------+----+------------+---------------+------------------+\n",
            "|Region|Year|Sales_Volume|Prev_year_Sales|YoY_Growth_Percent|\n",
            "+------+----+------------+---------------+------------------+\n",
            "|Africa|2010|        5935|           NULL|              NULL|\n",
            "|Africa|2010|        7607|           5935|             28.17|\n",
            "|Africa|2010|         968|           7607|            -87.27|\n",
            "|Africa|2010|        5236|            968|            440.91|\n",
            "|Africa|2010|        1252|           5236|            -76.09|\n",
            "|Africa|2010|        8358|           1252|            567.57|\n",
            "|Africa|2010|        2849|           8358|            -65.91|\n",
            "|Africa|2010|        9841|           2849|            245.42|\n",
            "|Africa|2010|        7521|           9841|            -23.57|\n",
            "|Africa|2010|        7103|           7521|             -5.56|\n",
            "|Africa|2010|        5754|           7103|            -18.99|\n",
            "|Africa|2010|        5113|           5754|            -11.14|\n",
            "|Africa|2010|         184|           5113|             -96.4|\n",
            "|Africa|2010|        1697|            184|            822.28|\n",
            "|Africa|2010|        8248|           1697|            386.03|\n",
            "+------+----+------------+---------------+------------------+\n",
            "only showing top 15 rows\n",
            "\n"
          ]
        }
      ]
    },
    {
      "cell_type": "markdown",
      "source": [
        "# **6. Ranking BMW Models with PySpark Window Functions**"
      ],
      "metadata": {
        "id": "MdHgLpFuzuHc"
      }
    },
    {
      "cell_type": "code",
      "source": [
        "from pyspark.sql import SparkSession\n",
        "from pyspark.sql.functions import *\n",
        "from pyspark.sql.window import Window\n",
        "from pyspark.sql.types import *\n",
        "\n",
        "spark=SparkSession.builder.appName(\"BMW_Sales\").getOrCreate()\n",
        "df=spark.read.csv(\"/content/BMW sales data (2010-2024) (1).csv\", header=True, inferSchema=True)\n",
        "\n",
        "windowSpec=Window.partitionBy(\"Year\").orderBy(\"Sales_Volume\")\n",
        "\n",
        "df_ranked=df.withColumn(\"Rank\",rank().over(windowSpec))\\\n",
        "            .withColumn(\"Dense_Rank\",dense_rank().over(windowSpec))\\\n",
        "            .withColumn(\"Row_Number\",row_number().over(windowSpec))\n",
        "\n",
        "# Display Top 5 Models per Year\n",
        "df_ranked.filter(df_ranked.Rank <=5).select(\"Year\",\"Model\",\"Sales_Volume\",\"Rank\").show(10)"
      ],
      "metadata": {
        "colab": {
          "base_uri": "https://localhost:8080/"
        },
        "id": "Brdo5zjh0Epq",
        "outputId": "d443e694-19e0-4cc3-9671-2cfa2a2417c3"
      },
      "execution_count": 2,
      "outputs": [
        {
          "output_type": "stream",
          "name": "stdout",
          "text": [
            "+----+--------+------------+----+\n",
            "|Year|   Model|Sales_Volume|Rank|\n",
            "+----+--------+------------+----+\n",
            "|2010|      X1|         100|   1|\n",
            "|2010|      X5|         103|   2|\n",
            "|2010|      i3|         105|   3|\n",
            "|2010|      X3|         105|   3|\n",
            "|2010|      X5|         110|   5|\n",
            "|2011|3 Series|         105|   1|\n",
            "|2011|      X6|         109|   2|\n",
            "|2011|      X3|         111|   3|\n",
            "|2011|5 Series|         116|   4|\n",
            "|2011|      i8|         117|   5|\n",
            "+----+--------+------------+----+\n",
            "only showing top 10 rows\n",
            "\n"
          ]
        }
      ]
    }
  ]
}