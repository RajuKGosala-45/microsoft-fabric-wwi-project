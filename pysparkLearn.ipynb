{
  "nbformat": 4,
  "nbformat_minor": 0,
  "metadata": {
    "colab": {
      "provenance": [],
      "authorship_tag": "ABX9TyNkZZSuTe7KPoV3dlmD1ku5",
      "include_colab_link": true
    },
    "kernelspec": {
      "name": "python3",
      "display_name": "Python 3"
    },
    "language_info": {
      "name": "python"
    }
  },
  "cells": [
    {
      "cell_type": "markdown",
      "metadata": {
        "id": "view-in-github",
        "colab_type": "text"
      },
      "source": [
        "<a href=\"https://colab.research.google.com/github/RajuKGosala-45/microsoft-fabric-wwi-project/blob/main/pysparkLearn.ipynb\" target=\"_parent\"><img src=\"https://colab.research.google.com/assets/colab-badge.svg\" alt=\"Open In Colab\"/></a>"
      ]
    },
    {
      "cell_type": "markdown",
      "source": [
        "# **BASIC DATA EXPLORATION**"
      ],
      "metadata": {
        "id": "HO-j6BLSeT4Z"
      }
    },
    {
      "cell_type": "markdown",
      "source": [
        "Read Data From CSV file"
      ],
      "metadata": {
        "id": "Z2yaxlvmWtJH"
      }
    },
    {
      "cell_type": "code",
      "execution_count": null,
      "metadata": {
        "colab": {
          "base_uri": "https://localhost:8080/"
        },
        "id": "NhtIlchm6Esw",
        "outputId": "4de8d18f-9cee-4e59-ba1c-e8ff1cc97e88"
      },
      "outputs": [
        {
          "output_type": "stream",
          "name": "stdout",
          "text": [
            "+------------+-----------+------------+-----------+-------+\n",
            "|sepal_length|sepal_width|petal_length|petal_width|species|\n",
            "+------------+-----------+------------+-----------+-------+\n",
            "|         5.1|        3.5|         1.4|        0.2| setosa|\n",
            "|         4.9|        3.0|         1.4|        0.2| setosa|\n",
            "|         4.7|        3.2|         1.3|        0.2| setosa|\n",
            "|         4.6|        3.1|         1.5|        0.2| setosa|\n",
            "|         5.0|        3.6|         1.4|        0.2| setosa|\n",
            "|         5.4|        3.9|         1.7|        0.4| setosa|\n",
            "|         4.6|        3.4|         1.4|        0.3| setosa|\n",
            "|         5.0|        3.4|         1.5|        0.2| setosa|\n",
            "|         4.4|        2.9|         1.4|        0.2| setosa|\n",
            "|         4.9|        3.1|         1.5|        0.1| setosa|\n",
            "|         5.4|        3.7|         1.5|        0.2| setosa|\n",
            "|         4.8|        3.4|         1.6|        0.2| setosa|\n",
            "|         4.8|        3.0|         1.4|        0.1| setosa|\n",
            "|         4.3|        3.0|         1.1|        0.1| setosa|\n",
            "|         5.8|        4.0|         1.2|        0.2| setosa|\n",
            "|         5.7|        4.4|         1.5|        0.4| setosa|\n",
            "|         5.4|        3.9|         1.3|        0.4| setosa|\n",
            "|         5.1|        3.5|         1.4|        0.3| setosa|\n",
            "|         5.7|        3.8|         1.7|        0.3| setosa|\n",
            "|         5.1|        3.8|         1.5|        0.3| setosa|\n",
            "+------------+-----------+------------+-----------+-------+\n",
            "only showing top 20 rows\n",
            "\n"
          ]
        }
      ],
      "source": [
        "from pyspark.sql import SparkSession\n",
        "from pyspark.sql.functions import*\n",
        "\n",
        "spark=SparkSession.builder.appName(\"Example\").getOrCreate()\n",
        "df = spark.read.csv(\"/content/iris.csv\", header=True, inferSchema=True)\n",
        "df.show()"
      ]
    },
    {
      "cell_type": "markdown",
      "source": [
        "Count how many rows and columns are in the dataset and Column fileds"
      ],
      "metadata": {
        "id": "-81GkLJ4ZJb7"
      }
    },
    {
      "cell_type": "code",
      "source": [
        "print(\"Total No Of Rows\",df.count())\n",
        "print(\"Total No Of Columns\",len(df.columns))\n",
        "df.columns"
      ],
      "metadata": {
        "colab": {
          "base_uri": "https://localhost:8080/"
        },
        "id": "QGPFbagWZaAD",
        "outputId": "9571abef-0260-45a6-8f1c-3ee13df8a984"
      },
      "execution_count": null,
      "outputs": [
        {
          "output_type": "stream",
          "name": "stdout",
          "text": [
            "Total No Of Rows 150\n",
            "Total No Of Columns 5\n"
          ]
        },
        {
          "output_type": "execute_result",
          "data": {
            "text/plain": [
              "['sepal_length', 'sepal_width', 'petal_length', 'petal_width', 'species']"
            ]
          },
          "metadata": {},
          "execution_count": 11
        }
      ]
    },
    {
      "cell_type": "markdown",
      "source": [
        "Display the distinct species values and Find how many rows belong to each species."
      ],
      "metadata": {
        "id": "OaJyaZleZH6S"
      }
    },
    {
      "cell_type": "code",
      "source": [
        "df.select(\"Species\").distinct().show()\n",
        "df.select(\"Species\").distinct().count()"
      ],
      "metadata": {
        "colab": {
          "base_uri": "https://localhost:8080/"
        },
        "id": "u0pYGeW1aCd6",
        "outputId": "9fa680fb-09bb-4b90-bc48-a164b6e01b3f"
      },
      "execution_count": 18,
      "outputs": [
        {
          "output_type": "stream",
          "name": "stdout",
          "text": [
            "+----------+\n",
            "|   Species|\n",
            "+----------+\n",
            "| virginica|\n",
            "|versicolor|\n",
            "|    setosa|\n",
            "+----------+\n",
            "\n"
          ]
        },
        {
          "output_type": "execute_result",
          "data": {
            "text/plain": [
              "3"
            ]
          },
          "metadata": {},
          "execution_count": 18
        }
      ]
    },
    {
      "cell_type": "markdown",
      "source": [
        "Count rows per species"
      ],
      "metadata": {
        "id": "wSqpXwqwgyz-"
      }
    },
    {
      "cell_type": "code",
      "source": [
        "df.groupBy(\"Species\").count().show()"
      ],
      "metadata": {
        "colab": {
          "base_uri": "https://localhost:8080/"
        },
        "id": "8jlfOr2ggRYo",
        "outputId": "5e41b24b-4d21-457a-b74d-d269a81c3208"
      },
      "execution_count": 21,
      "outputs": [
        {
          "output_type": "stream",
          "name": "stdout",
          "text": [
            "+----------+-----+\n",
            "|   Species|count|\n",
            "+----------+-----+\n",
            "| virginica|   50|\n",
            "|versicolor|   50|\n",
            "|    setosa|   50|\n",
            "+----------+-----+\n",
            "\n"
          ]
        }
      ]
    },
    {
      "cell_type": "markdown",
      "source": [
        "Display the Petal_length Column with Duplicates and Without Duplicates"
      ],
      "metadata": {
        "id": "ZezD5YZhbpNj"
      }
    },
    {
      "cell_type": "code",
      "source": [
        "df.select(\"petal_length\").show()\n",
        "df.select(\"petal_length\").distinct().show()"
      ],
      "metadata": {
        "colab": {
          "base_uri": "https://localhost:8080/"
        },
        "id": "snjj1PILbpyC",
        "outputId": "3ef798df-254e-471c-9a1c-7273906bc218"
      },
      "execution_count": null,
      "outputs": [
        {
          "output_type": "stream",
          "name": "stdout",
          "text": [
            "+------------+\n",
            "|petal_length|\n",
            "+------------+\n",
            "|         1.4|\n",
            "|         1.4|\n",
            "|         1.3|\n",
            "|         1.5|\n",
            "|         1.4|\n",
            "|         1.7|\n",
            "|         1.4|\n",
            "|         1.5|\n",
            "|         1.4|\n",
            "|         1.5|\n",
            "|         1.5|\n",
            "|         1.6|\n",
            "|         1.4|\n",
            "|         1.1|\n",
            "|         1.2|\n",
            "|         1.5|\n",
            "|         1.3|\n",
            "|         1.4|\n",
            "|         1.7|\n",
            "|         1.5|\n",
            "+------------+\n",
            "only showing top 20 rows\n",
            "\n",
            "+------------+\n",
            "|petal_length|\n",
            "+------------+\n",
            "|         5.4|\n",
            "|         3.5|\n",
            "|         6.1|\n",
            "|         6.6|\n",
            "|         3.7|\n",
            "|         4.5|\n",
            "|         5.7|\n",
            "|         1.7|\n",
            "|         6.7|\n",
            "|         3.9|\n",
            "|         1.4|\n",
            "|         4.9|\n",
            "|         1.0|\n",
            "|         4.1|\n",
            "|         4.0|\n",
            "|         1.9|\n",
            "|         3.8|\n",
            "|         5.1|\n",
            "|         4.2|\n",
            "|         1.3|\n",
            "+------------+\n",
            "only showing top 20 rows\n",
            "\n"
          ]
        }
      ]
    },
    {
      "cell_type": "markdown",
      "source": [
        "To Show the first 10 rows"
      ],
      "metadata": {
        "id": "EAKOIu-Qc6nF"
      }
    },
    {
      "cell_type": "code",
      "source": [
        "df.show(10)"
      ],
      "metadata": {
        "colab": {
          "base_uri": "https://localhost:8080/"
        },
        "id": "6Vz4tjVgc_jg",
        "outputId": "46c95cb4-6097-482d-86bd-9cc637ff569e"
      },
      "execution_count": 17,
      "outputs": [
        {
          "output_type": "stream",
          "name": "stdout",
          "text": [
            "+------------+-----------+------------+-----------+-------+\n",
            "|sepal_length|sepal_width|petal_length|petal_width|species|\n",
            "+------------+-----------+------------+-----------+-------+\n",
            "|         5.1|        3.5|         1.4|        0.2| setosa|\n",
            "|         4.9|        3.0|         1.4|        0.2| setosa|\n",
            "|         4.7|        3.2|         1.3|        0.2| setosa|\n",
            "|         4.6|        3.1|         1.5|        0.2| setosa|\n",
            "|         5.0|        3.6|         1.4|        0.2| setosa|\n",
            "|         5.4|        3.9|         1.7|        0.4| setosa|\n",
            "|         4.6|        3.4|         1.4|        0.3| setosa|\n",
            "|         5.0|        3.4|         1.5|        0.2| setosa|\n",
            "|         4.4|        2.9|         1.4|        0.2| setosa|\n",
            "|         4.9|        3.1|         1.5|        0.1| setosa|\n",
            "+------------+-----------+------------+-----------+-------+\n",
            "only showing top 10 rows\n",
            "\n"
          ]
        }
      ]
    },
    {
      "cell_type": "markdown",
      "source": [
        "# **DATA CLEANING AND TRANSFORMATIONS**"
      ],
      "metadata": {
        "id": "gmxQ4Tp9dJJR"
      }
    },
    {
      "cell_type": "markdown",
      "source": [
        "Rename the columns with Underscores instead of Spaces --(e.g., SepalLengthCm → sepal_length)."
      ],
      "metadata": {
        "id": "2xCPRZ4CeyjJ"
      }
    },
    {
      "cell_type": "code",
      "source": [
        "for col_name in df.columns:\n",
        "  df=df.withColumnRenamed(col_name,col_name.lower().replace(\"cm\", \"\").replace(\" \",\"_\"))\n",
        "df.printSchema()\n",
        "df.show()"
      ],
      "metadata": {
        "colab": {
          "base_uri": "https://localhost:8080/"
        },
        "id": "e8Ds9Ju7fE9f",
        "outputId": "6007b185-4305-443c-9be0-77eff64470ec"
      },
      "execution_count": 29,
      "outputs": [
        {
          "output_type": "stream",
          "name": "stdout",
          "text": [
            "root\n",
            " |-- sepal_length: double (nullable = true)\n",
            " |-- sepal_width: double (nullable = true)\n",
            " |-- petal_length: double (nullable = true)\n",
            " |-- petal_width: double (nullable = true)\n",
            " |-- species: string (nullable = true)\n",
            "\n",
            "+------------+-----------+------------+-----------+-------+\n",
            "|sepal_length|sepal_width|petal_length|petal_width|species|\n",
            "+------------+-----------+------------+-----------+-------+\n",
            "|         5.1|        3.5|         1.4|        0.2| setosa|\n",
            "|         4.9|        3.0|         1.4|        0.2| setosa|\n",
            "|         4.7|        3.2|         1.3|        0.2| setosa|\n",
            "|         4.6|        3.1|         1.5|        0.2| setosa|\n",
            "|         5.0|        3.6|         1.4|        0.2| setosa|\n",
            "|         5.4|        3.9|         1.7|        0.4| setosa|\n",
            "|         4.6|        3.4|         1.4|        0.3| setosa|\n",
            "|         5.0|        3.4|         1.5|        0.2| setosa|\n",
            "|         4.4|        2.9|         1.4|        0.2| setosa|\n",
            "|         4.9|        3.1|         1.5|        0.1| setosa|\n",
            "|         5.4|        3.7|         1.5|        0.2| setosa|\n",
            "|         4.8|        3.4|         1.6|        0.2| setosa|\n",
            "|         4.8|        3.0|         1.4|        0.1| setosa|\n",
            "|         4.3|        3.0|         1.1|        0.1| setosa|\n",
            "|         5.8|        4.0|         1.2|        0.2| setosa|\n",
            "|         5.7|        4.4|         1.5|        0.4| setosa|\n",
            "|         5.4|        3.9|         1.3|        0.4| setosa|\n",
            "|         5.1|        3.5|         1.4|        0.3| setosa|\n",
            "|         5.7|        3.8|         1.7|        0.3| setosa|\n",
            "|         5.1|        3.8|         1.5|        0.3| setosa|\n",
            "+------------+-----------+------------+-----------+-------+\n",
            "only showing top 20 rows\n",
            "\n"
          ]
        }
      ]
    },
    {
      "cell_type": "markdown",
      "source": [
        "Add New Column Sepal_Area"
      ],
      "metadata": {
        "id": "JdJLpNb2jWcG"
      }
    },
    {
      "cell_type": "code",
      "source": [
        "df=df.withColumn(\"Sepal_Area\",col(\"sepal_Length\")*col(\"sepal_Width\"))\n",
        "df.show()"
      ],
      "metadata": {
        "colab": {
          "base_uri": "https://localhost:8080/"
        },
        "id": "qaupX6z6kmyb",
        "outputId": "08c2982d-c471-4152-e4e0-7703c1153d83"
      },
      "execution_count": 33,
      "outputs": [
        {
          "output_type": "stream",
          "name": "stdout",
          "text": [
            "+------------+-----------+------------+-----------+-------+------------------+\n",
            "|sepal_length|sepal_width|petal_length|petal_width|species|        Sepal_Area|\n",
            "+------------+-----------+------------+-----------+-------+------------------+\n",
            "|         5.1|        3.5|         1.4|        0.2| setosa|17.849999999999998|\n",
            "|         4.9|        3.0|         1.4|        0.2| setosa|14.700000000000001|\n",
            "|         4.7|        3.2|         1.3|        0.2| setosa|15.040000000000001|\n",
            "|         4.6|        3.1|         1.5|        0.2| setosa|             14.26|\n",
            "|         5.0|        3.6|         1.4|        0.2| setosa|              18.0|\n",
            "|         5.4|        3.9|         1.7|        0.4| setosa|21.060000000000002|\n",
            "|         4.6|        3.4|         1.4|        0.3| setosa|15.639999999999999|\n",
            "|         5.0|        3.4|         1.5|        0.2| setosa|              17.0|\n",
            "|         4.4|        2.9|         1.4|        0.2| setosa|             12.76|\n",
            "|         4.9|        3.1|         1.5|        0.1| setosa|15.190000000000001|\n",
            "|         5.4|        3.7|         1.5|        0.2| setosa|19.980000000000004|\n",
            "|         4.8|        3.4|         1.6|        0.2| setosa|             16.32|\n",
            "|         4.8|        3.0|         1.4|        0.1| setosa|14.399999999999999|\n",
            "|         4.3|        3.0|         1.1|        0.1| setosa|12.899999999999999|\n",
            "|         5.8|        4.0|         1.2|        0.2| setosa|              23.2|\n",
            "|         5.7|        4.4|         1.5|        0.4| setosa|25.080000000000002|\n",
            "|         5.4|        3.9|         1.3|        0.4| setosa|21.060000000000002|\n",
            "|         5.1|        3.5|         1.4|        0.3| setosa|17.849999999999998|\n",
            "|         5.7|        3.8|         1.7|        0.3| setosa|             21.66|\n",
            "|         5.1|        3.8|         1.5|        0.3| setosa|             19.38|\n",
            "+------------+-----------+------------+-----------+-------+------------------+\n",
            "only showing top 20 rows\n",
            "\n"
          ]
        }
      ]
    },
    {
      "cell_type": "markdown",
      "source": [
        "Filter Rows with petal_length >4.0"
      ],
      "metadata": {
        "id": "wWEqrc_1l9tS"
      }
    },
    {
      "cell_type": "code",
      "source": [
        "df.filter(col(\"Petal_Length\") > 4.0).show(5)"
      ],
      "metadata": {
        "colab": {
          "base_uri": "https://localhost:8080/"
        },
        "id": "3dL6VelimGRw",
        "outputId": "4340dd34-1fb1-40bf-b713-afa3fc5398a6"
      },
      "execution_count": 35,
      "outputs": [
        {
          "output_type": "stream",
          "name": "stdout",
          "text": [
            "+------------+-----------+------------+-----------+----------+------------------+\n",
            "|sepal_length|sepal_width|petal_length|petal_width|   species|        Sepal_Area|\n",
            "+------------+-----------+------------+-----------+----------+------------------+\n",
            "|         7.0|        3.2|         4.7|        1.4|versicolor|22.400000000000002|\n",
            "|         6.4|        3.2|         4.5|        1.5|versicolor|20.480000000000004|\n",
            "|         6.9|        3.1|         4.9|        1.5|versicolor|             21.39|\n",
            "|         6.5|        2.8|         4.6|        1.5|versicolor|              18.2|\n",
            "|         5.7|        2.8|         4.5|        1.3|versicolor|15.959999999999999|\n",
            "+------------+-----------+------------+-----------+----------+------------------+\n",
            "only showing top 5 rows\n",
            "\n"
          ]
        }
      ]
    },
    {
      "cell_type": "markdown",
      "source": [
        "Filter Rows Petal_Length < 4.0"
      ],
      "metadata": {
        "id": "XWSFpiGBmqom"
      }
    },
    {
      "cell_type": "code",
      "source": [
        "df.filter(col(\"Petal_Length\") <4.0).show(5)"
      ],
      "metadata": {
        "colab": {
          "base_uri": "https://localhost:8080/"
        },
        "id": "_DgDe3fqmzBy",
        "outputId": "3172b69f-5d70-4af3-8bd3-1e1ca8a80fae"
      },
      "execution_count": 36,
      "outputs": [
        {
          "output_type": "stream",
          "name": "stdout",
          "text": [
            "+------------+-----------+------------+-----------+-------+------------------+\n",
            "|sepal_length|sepal_width|petal_length|petal_width|species|        Sepal_Area|\n",
            "+------------+-----------+------------+-----------+-------+------------------+\n",
            "|         5.1|        3.5|         1.4|        0.2| setosa|17.849999999999998|\n",
            "|         4.9|        3.0|         1.4|        0.2| setosa|14.700000000000001|\n",
            "|         4.7|        3.2|         1.3|        0.2| setosa|15.040000000000001|\n",
            "|         4.6|        3.1|         1.5|        0.2| setosa|             14.26|\n",
            "|         5.0|        3.6|         1.4|        0.2| setosa|              18.0|\n",
            "+------------+-----------+------------+-----------+-------+------------------+\n",
            "only showing top 5 rows\n",
            "\n"
          ]
        }
      ]
    },
    {
      "cell_type": "markdown",
      "source": [
        "Filter Rows Petal_Width >1.0"
      ],
      "metadata": {
        "id": "9vG4czjsm9JG"
      }
    },
    {
      "cell_type": "code",
      "source": [
        "df.filter(col(\"Petal_Width\") >1.0).show(5)"
      ],
      "metadata": {
        "colab": {
          "base_uri": "https://localhost:8080/"
        },
        "id": "GWPvTlgNnXSV",
        "outputId": "4ab0b838-5fd1-4c10-9448-49455d50d69a"
      },
      "execution_count": 37,
      "outputs": [
        {
          "output_type": "stream",
          "name": "stdout",
          "text": [
            "+------------+-----------+------------+-----------+----------+------------------+\n",
            "|sepal_length|sepal_width|petal_length|petal_width|   species|        Sepal_Area|\n",
            "+------------+-----------+------------+-----------+----------+------------------+\n",
            "|         7.0|        3.2|         4.7|        1.4|versicolor|22.400000000000002|\n",
            "|         6.4|        3.2|         4.5|        1.5|versicolor|20.480000000000004|\n",
            "|         6.9|        3.1|         4.9|        1.5|versicolor|             21.39|\n",
            "|         5.5|        2.3|         4.0|        1.3|versicolor|12.649999999999999|\n",
            "|         6.5|        2.8|         4.6|        1.5|versicolor|              18.2|\n",
            "+------------+-----------+------------+-----------+----------+------------------+\n",
            "only showing top 5 rows\n",
            "\n"
          ]
        }
      ]
    },
    {
      "cell_type": "markdown",
      "source": [
        "Replacing Missing Values with Mean"
      ],
      "metadata": {
        "id": "44OFxVGCnkBX"
      }
    },
    {
      "cell_type": "code",
      "source": [
        "for c in [\"sepal_Length\",\"Sepal_Width\",\"petal_Length\",\"Petal_Width\"]:\n",
        "  mean_val=df.select(col(c)).first()[0]\n",
        "  df=df.na.fill({c: mean_val})\n",
        "  df.show()"
      ],
      "metadata": {
        "colab": {
          "base_uri": "https://localhost:8080/"
        },
        "id": "Mld8HOA4nqJZ",
        "outputId": "50b9b3e7-6695-4a48-b087-a5f2a3c52bb5"
      },
      "execution_count": 44,
      "outputs": [
        {
          "output_type": "stream",
          "name": "stdout",
          "text": [
            "+------------+-----------+------------+-----------+-------+------------------+\n",
            "|sepal_length|sepal_width|petal_length|petal_width|species|        Sepal_Area|\n",
            "+------------+-----------+------------+-----------+-------+------------------+\n",
            "|         5.1|        3.5|         1.4|        0.2| setosa|17.849999999999998|\n",
            "|         4.9|        3.0|         1.4|        0.2| setosa|14.700000000000001|\n",
            "|         4.7|        3.2|         1.3|        0.2| setosa|15.040000000000001|\n",
            "|         4.6|        3.1|         1.5|        0.2| setosa|             14.26|\n",
            "|         5.0|        3.6|         1.4|        0.2| setosa|              18.0|\n",
            "|         5.4|        3.9|         1.7|        0.4| setosa|21.060000000000002|\n",
            "|         4.6|        3.4|         1.4|        0.3| setosa|15.639999999999999|\n",
            "|         5.0|        3.4|         1.5|        0.2| setosa|              17.0|\n",
            "|         4.4|        2.9|         1.4|        0.2| setosa|             12.76|\n",
            "|         4.9|        3.1|         1.5|        0.1| setosa|15.190000000000001|\n",
            "|         5.4|        3.7|         1.5|        0.2| setosa|19.980000000000004|\n",
            "|         4.8|        3.4|         1.6|        0.2| setosa|             16.32|\n",
            "|         4.8|        3.0|         1.4|        0.1| setosa|14.399999999999999|\n",
            "|         4.3|        3.0|         1.1|        0.1| setosa|12.899999999999999|\n",
            "|         5.8|        4.0|         1.2|        0.2| setosa|              23.2|\n",
            "|         5.7|        4.4|         1.5|        0.4| setosa|25.080000000000002|\n",
            "|         5.4|        3.9|         1.3|        0.4| setosa|21.060000000000002|\n",
            "|         5.1|        3.5|         1.4|        0.3| setosa|17.849999999999998|\n",
            "|         5.7|        3.8|         1.7|        0.3| setosa|             21.66|\n",
            "|         5.1|        3.8|         1.5|        0.3| setosa|             19.38|\n",
            "+------------+-----------+------------+-----------+-------+------------------+\n",
            "only showing top 20 rows\n",
            "\n",
            "+------------+-----------+------------+-----------+-------+------------------+\n",
            "|sepal_length|sepal_width|petal_length|petal_width|species|        Sepal_Area|\n",
            "+------------+-----------+------------+-----------+-------+------------------+\n",
            "|         5.1|        3.5|         1.4|        0.2| setosa|17.849999999999998|\n",
            "|         4.9|        3.0|         1.4|        0.2| setosa|14.700000000000001|\n",
            "|         4.7|        3.2|         1.3|        0.2| setosa|15.040000000000001|\n",
            "|         4.6|        3.1|         1.5|        0.2| setosa|             14.26|\n",
            "|         5.0|        3.6|         1.4|        0.2| setosa|              18.0|\n",
            "|         5.4|        3.9|         1.7|        0.4| setosa|21.060000000000002|\n",
            "|         4.6|        3.4|         1.4|        0.3| setosa|15.639999999999999|\n",
            "|         5.0|        3.4|         1.5|        0.2| setosa|              17.0|\n",
            "|         4.4|        2.9|         1.4|        0.2| setosa|             12.76|\n",
            "|         4.9|        3.1|         1.5|        0.1| setosa|15.190000000000001|\n",
            "|         5.4|        3.7|         1.5|        0.2| setosa|19.980000000000004|\n",
            "|         4.8|        3.4|         1.6|        0.2| setosa|             16.32|\n",
            "|         4.8|        3.0|         1.4|        0.1| setosa|14.399999999999999|\n",
            "|         4.3|        3.0|         1.1|        0.1| setosa|12.899999999999999|\n",
            "|         5.8|        4.0|         1.2|        0.2| setosa|              23.2|\n",
            "|         5.7|        4.4|         1.5|        0.4| setosa|25.080000000000002|\n",
            "|         5.4|        3.9|         1.3|        0.4| setosa|21.060000000000002|\n",
            "|         5.1|        3.5|         1.4|        0.3| setosa|17.849999999999998|\n",
            "|         5.7|        3.8|         1.7|        0.3| setosa|             21.66|\n",
            "|         5.1|        3.8|         1.5|        0.3| setosa|             19.38|\n",
            "+------------+-----------+------------+-----------+-------+------------------+\n",
            "only showing top 20 rows\n",
            "\n",
            "+------------+-----------+------------+-----------+-------+------------------+\n",
            "|sepal_length|sepal_width|petal_length|petal_width|species|        Sepal_Area|\n",
            "+------------+-----------+------------+-----------+-------+------------------+\n",
            "|         5.1|        3.5|         1.4|        0.2| setosa|17.849999999999998|\n",
            "|         4.9|        3.0|         1.4|        0.2| setosa|14.700000000000001|\n",
            "|         4.7|        3.2|         1.3|        0.2| setosa|15.040000000000001|\n",
            "|         4.6|        3.1|         1.5|        0.2| setosa|             14.26|\n",
            "|         5.0|        3.6|         1.4|        0.2| setosa|              18.0|\n",
            "|         5.4|        3.9|         1.7|        0.4| setosa|21.060000000000002|\n",
            "|         4.6|        3.4|         1.4|        0.3| setosa|15.639999999999999|\n",
            "|         5.0|        3.4|         1.5|        0.2| setosa|              17.0|\n",
            "|         4.4|        2.9|         1.4|        0.2| setosa|             12.76|\n",
            "|         4.9|        3.1|         1.5|        0.1| setosa|15.190000000000001|\n",
            "|         5.4|        3.7|         1.5|        0.2| setosa|19.980000000000004|\n",
            "|         4.8|        3.4|         1.6|        0.2| setosa|             16.32|\n",
            "|         4.8|        3.0|         1.4|        0.1| setosa|14.399999999999999|\n",
            "|         4.3|        3.0|         1.1|        0.1| setosa|12.899999999999999|\n",
            "|         5.8|        4.0|         1.2|        0.2| setosa|              23.2|\n",
            "|         5.7|        4.4|         1.5|        0.4| setosa|25.080000000000002|\n",
            "|         5.4|        3.9|         1.3|        0.4| setosa|21.060000000000002|\n",
            "|         5.1|        3.5|         1.4|        0.3| setosa|17.849999999999998|\n",
            "|         5.7|        3.8|         1.7|        0.3| setosa|             21.66|\n",
            "|         5.1|        3.8|         1.5|        0.3| setosa|             19.38|\n",
            "+------------+-----------+------------+-----------+-------+------------------+\n",
            "only showing top 20 rows\n",
            "\n",
            "+------------+-----------+------------+-----------+-------+------------------+\n",
            "|sepal_length|sepal_width|petal_length|petal_width|species|        Sepal_Area|\n",
            "+------------+-----------+------------+-----------+-------+------------------+\n",
            "|         5.1|        3.5|         1.4|        0.2| setosa|17.849999999999998|\n",
            "|         4.9|        3.0|         1.4|        0.2| setosa|14.700000000000001|\n",
            "|         4.7|        3.2|         1.3|        0.2| setosa|15.040000000000001|\n",
            "|         4.6|        3.1|         1.5|        0.2| setosa|             14.26|\n",
            "|         5.0|        3.6|         1.4|        0.2| setosa|              18.0|\n",
            "|         5.4|        3.9|         1.7|        0.4| setosa|21.060000000000002|\n",
            "|         4.6|        3.4|         1.4|        0.3| setosa|15.639999999999999|\n",
            "|         5.0|        3.4|         1.5|        0.2| setosa|              17.0|\n",
            "|         4.4|        2.9|         1.4|        0.2| setosa|             12.76|\n",
            "|         4.9|        3.1|         1.5|        0.1| setosa|15.190000000000001|\n",
            "|         5.4|        3.7|         1.5|        0.2| setosa|19.980000000000004|\n",
            "|         4.8|        3.4|         1.6|        0.2| setosa|             16.32|\n",
            "|         4.8|        3.0|         1.4|        0.1| setosa|14.399999999999999|\n",
            "|         4.3|        3.0|         1.1|        0.1| setosa|12.899999999999999|\n",
            "|         5.8|        4.0|         1.2|        0.2| setosa|              23.2|\n",
            "|         5.7|        4.4|         1.5|        0.4| setosa|25.080000000000002|\n",
            "|         5.4|        3.9|         1.3|        0.4| setosa|21.060000000000002|\n",
            "|         5.1|        3.5|         1.4|        0.3| setosa|17.849999999999998|\n",
            "|         5.7|        3.8|         1.7|        0.3| setosa|             21.66|\n",
            "|         5.1|        3.8|         1.5|        0.3| setosa|             19.38|\n",
            "+------------+-----------+------------+-----------+-------+------------------+\n",
            "only showing top 20 rows\n",
            "\n"
          ]
        }
      ]
    },
    {
      "cell_type": "markdown",
      "source": [
        "# **AGGREGATIONS**"
      ],
      "metadata": {
        "id": "3O9IUu6PqjS0"
      }
    },
    {
      "cell_type": "markdown",
      "source": [
        "Average Sepal_Length for species/\n",
        "Average Petal_length for species/\n",
        "Average Sepal_Width for Species/"
      ],
      "metadata": {
        "id": "taZcOwsbqrfX"
      }
    },
    {
      "cell_type": "code",
      "source": [
        "df.groupBy(\"species\").agg(avg(\"sepal_length\").alias(\"AVG_sepal_length\")).show()\n",
        "df.groupBy(\"Species\").agg(avg(\"petal_Length\").alias(\"AVG_petal_Length\")).show()\n",
        "df.groupBy(\"species\").agg(avg(\"Sepal_width\").alias(\"AVG_Sepal_Width\")).show()"
      ],
      "metadata": {
        "colab": {
          "base_uri": "https://localhost:8080/"
        },
        "id": "9XS1hxC5tgUF",
        "outputId": "50452e1b-9832-4a81-e5d8-8bc84d7119e0"
      },
      "execution_count": 49,
      "outputs": [
        {
          "output_type": "stream",
          "name": "stdout",
          "text": [
            "+----------+-----------------+\n",
            "|   species| AVG_sepal_length|\n",
            "+----------+-----------------+\n",
            "| virginica|6.587999999999998|\n",
            "|versicolor|            5.936|\n",
            "|    setosa|5.005999999999999|\n",
            "+----------+-----------------+\n",
            "\n",
            "+----------+----------------+\n",
            "|   Species|AVG_petal_Length|\n",
            "+----------+----------------+\n",
            "| virginica|           5.552|\n",
            "|versicolor|            4.26|\n",
            "|    setosa|           1.464|\n",
            "+----------+----------------+\n",
            "\n",
            "+----------+------------------+\n",
            "|   species|   AVG_Sepal_Width|\n",
            "+----------+------------------+\n",
            "| virginica|2.9739999999999998|\n",
            "|versicolor|2.7700000000000005|\n",
            "|    setosa|3.4180000000000006|\n",
            "+----------+------------------+\n",
            "\n"
          ]
        }
      ]
    },
    {
      "cell_type": "markdown",
      "source": [
        "Min & Max Sepal_length of Species"
      ],
      "metadata": {
        "id": "RDfAcvb9vBTm"
      }
    },
    {
      "cell_type": "code",
      "source": [
        "df.groupBy(\"Species\").agg(min(\"sepal_length\").alias(\"Min_Sepal_Length\"),\n",
        "                           max(\"sepal_length\").alias(\"Max_Sepal_Length\")).show()"
      ],
      "metadata": {
        "colab": {
          "base_uri": "https://localhost:8080/"
        },
        "id": "i6iz-THGvNnD",
        "outputId": "98df0b6c-3065-4b6e-ff74-c9e5286ae1f5"
      },
      "execution_count": 51,
      "outputs": [
        {
          "output_type": "stream",
          "name": "stdout",
          "text": [
            "+----------+----------------+----------------+\n",
            "|   Species|Min_Sepal_Length|Max_Sepal_Length|\n",
            "+----------+----------------+----------------+\n",
            "| virginica|             4.9|             7.9|\n",
            "|versicolor|             4.9|             7.0|\n",
            "|    setosa|             4.3|             5.8|\n",
            "+----------+----------------+----------------+\n",
            "\n"
          ]
        }
      ]
    },
    {
      "cell_type": "markdown",
      "source": [
        "Min & Max sepal_width of Species"
      ],
      "metadata": {
        "id": "cXOnPovvwGoz"
      }
    },
    {
      "cell_type": "code",
      "source": [
        "df.groupBy(\"Species\").agg(min(\"sepal_width\").alias(\"MIN_Sepal_Length\"),\n",
        "                          max(\"sepal_width\").alias(\"MAX_Sepal_Length\")).show()"
      ],
      "metadata": {
        "colab": {
          "base_uri": "https://localhost:8080/"
        },
        "id": "WxPOituZwLxb",
        "outputId": "5b6ab463-ca9b-4385-d6b7-28373ffc791b"
      },
      "execution_count": 53,
      "outputs": [
        {
          "output_type": "stream",
          "name": "stdout",
          "text": [
            "+----------+----------------+----------------+\n",
            "|   Species|MIN_Sepal_Length|MAX_Sepal_Length|\n",
            "+----------+----------------+----------------+\n",
            "| virginica|             2.2|             3.8|\n",
            "|versicolor|             2.0|             3.4|\n",
            "|    setosa|             2.3|             4.4|\n",
            "+----------+----------------+----------------+\n",
            "\n"
          ]
        }
      ]
    },
    {
      "cell_type": "markdown",
      "source": [
        "Count flowers with sepallength > 5"
      ],
      "metadata": {
        "id": "JQcSzdE6xC-l"
      }
    },
    {
      "cell_type": "code",
      "source": [
        "df.filter(col(\"sepal_length\")>5).count()"
      ],
      "metadata": {
        "colab": {
          "base_uri": "https://localhost:8080/"
        },
        "id": "E1B1-nh0wUxK",
        "outputId": "ac03a2b5-24c9-41f5-b149-6522bd1c9723"
      },
      "execution_count": 54,
      "outputs": [
        {
          "output_type": "execute_result",
          "data": {
            "text/plain": [
              "118"
            ]
          },
          "metadata": {},
          "execution_count": 54
        }
      ]
    },
    {
      "cell_type": "markdown",
      "source": [
        "# **SORTING AND GROUPING**"
      ],
      "metadata": {
        "id": "egKVEAT-xamR"
      }
    },
    {
      "cell_type": "markdown",
      "source": [],
      "metadata": {
        "id": "U4nQjoPyxhC8"
      }
    }
  ]
}