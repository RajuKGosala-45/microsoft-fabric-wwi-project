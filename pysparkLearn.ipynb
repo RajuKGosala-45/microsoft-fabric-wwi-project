{
  "nbformat": 4,
  "nbformat_minor": 0,
  "metadata": {
    "colab": {
      "provenance": [],
      "authorship_tag": "ABX9TyOb2GOYDllxIK4afmUGHrol",
      "include_colab_link": true
    },
    "kernelspec": {
      "name": "python3",
      "display_name": "Python 3"
    },
    "language_info": {
      "name": "python"
    }
  },
  "cells": [
    {
      "cell_type": "markdown",
      "metadata": {
        "id": "view-in-github",
        "colab_type": "text"
      },
      "source": [
        "<a href=\"https://colab.research.google.com/github/RajuKGosala-45/microsoft-fabric-wwi-project/blob/main/pysparkLearn.ipynb\" target=\"_parent\"><img src=\"https://colab.research.google.com/assets/colab-badge.svg\" alt=\"Open In Colab\"/></a>"
      ]
    },
    {
      "cell_type": "code",
      "execution_count": null,
      "metadata": {
        "colab": {
          "base_uri": "https://localhost:8080/"
        },
        "id": "NhtIlchm6Esw",
        "outputId": "af155572-1bc4-4462-c972-a646d5070b77"
      },
      "outputs": [
        {
          "output_type": "stream",
          "name": "stdout",
          "text": [
            "+------------+-----------+------------+-----------+-------+\n",
            "|sepal_length|sepal_width|petal_length|petal_width|species|\n",
            "+------------+-----------+------------+-----------+-------+\n",
            "|         5.1|        3.5|         1.4|        0.2| setosa|\n",
            "|         4.9|        3.0|         1.4|        0.2| setosa|\n",
            "|         4.7|        3.2|         1.3|        0.2| setosa|\n",
            "|         4.6|        3.1|         1.5|        0.2| setosa|\n",
            "|         5.0|        3.6|         1.4|        0.2| setosa|\n",
            "|         5.4|        3.9|         1.7|        0.4| setosa|\n",
            "|         4.6|        3.4|         1.4|        0.3| setosa|\n",
            "|         5.0|        3.4|         1.5|        0.2| setosa|\n",
            "|         4.4|        2.9|         1.4|        0.2| setosa|\n",
            "|         4.9|        3.1|         1.5|        0.1| setosa|\n",
            "+------------+-----------+------------+-----------+-------+\n",
            "only showing top 10 rows\n",
            "\n",
            "Total no of Rows 150\n",
            "Total no of Columns 5\n"
          ]
        }
      ],
      "source": [
        "from pyspark.sql import SparkSession\n",
        "from pyspark.sql.functions import*\n",
        "\n",
        "spark=SparkSession.builder.appName(\"Example\").getOrCreate()\n",
        "df = spark.read.csv(\"/content/iris.csv\", header=True, inferSchema=True)\n",
        "df.show(10)\n",
        "print(\"Total no of Rows\",df.count())\n",
        "print(\"Total no of Columns\",len(df.columns))\n"
      ]
    },
    {
      "cell_type": "code",
      "source": [
        "df.select(\"species\").distinct().show()\n",
        "df.select(\"sepal_length\").distinct().show()"
      ],
      "metadata": {
        "colab": {
          "base_uri": "https://localhost:8080/"
        },
        "id": "SrSfPWju-3Kr",
        "outputId": "f03d5abd-61f5-47fe-9daf-3f350c3d83aa"
      },
      "execution_count": null,
      "outputs": [
        {
          "output_type": "stream",
          "name": "stdout",
          "text": [
            "+----------+\n",
            "|   species|\n",
            "+----------+\n",
            "| virginica|\n",
            "|versicolor|\n",
            "|    setosa|\n",
            "+----------+\n",
            "\n",
            "+------------+\n",
            "|sepal_length|\n",
            "+------------+\n",
            "|         5.4|\n",
            "|         7.0|\n",
            "|         6.1|\n",
            "|         7.7|\n",
            "|         6.6|\n",
            "|         4.5|\n",
            "|         5.7|\n",
            "|         7.4|\n",
            "|         7.3|\n",
            "|         4.3|\n",
            "|         6.7|\n",
            "|         6.5|\n",
            "|         4.9|\n",
            "|         6.2|\n",
            "|         5.1|\n",
            "|         7.9|\n",
            "|         4.7|\n",
            "|         5.3|\n",
            "|         7.2|\n",
            "|         7.6|\n",
            "+------------+\n",
            "only showing top 20 rows\n",
            "\n"
          ]
        }
      ]
    }
  ]
}